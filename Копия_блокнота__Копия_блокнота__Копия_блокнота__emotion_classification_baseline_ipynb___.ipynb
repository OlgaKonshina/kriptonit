{
  "cells": [
    {
      "cell_type": "code",
      "execution_count": null,
      "metadata": {
        "id": "liZ-8iSUUkk_"
      },
      "outputs": [],
      "source": [
        "!pip install -q transformers datasets librosa"
      ]
    },
    {
      "cell_type": "code",
      "source": [],
      "metadata": {
        "id": "x5Ud7QV9diXF"
      },
      "execution_count": null,
      "outputs": []
    },
    {
      "cell_type": "code",
      "execution_count": null,
      "metadata": {
        "id": "n0VRrUR1UklB"
      },
      "outputs": [],
      "source": [
        "from transformers import AutoModel, AutoTokenizer\n",
        "from datasets import load_dataset\n",
        "\n",
        "import torch\n",
        "from torch.utils.data import Dataset\n",
        "from torch.utils.data import DataLoader\n",
        "\n",
        "import os\n",
        "import re\n",
        "import random\n",
        "import itertools\n",
        "from collections import defaultdict\n",
        "import numpy as np\n",
        "from sklearn import metrics\n",
        "import matplotlib.pyplot as plt"
      ]
    },
    {
      "cell_type": "code",
      "execution_count": null,
      "metadata": {
        "id": "I6MoaY3gUklC"
      },
      "outputs": [],
      "source": [
        "def seed_everything(seed: int):\n",
        "    random.seed(seed)\n",
        "    os.environ['PYTHONHASHSEED'] = str(seed)\n",
        "    np.random.seed(seed)\n",
        "    torch.manual_seed(seed)\n",
        "    torch.cuda.manual_seed(seed)\n",
        "    torch.backends.cudnn.deterministic = True\n",
        "    torch.backends.cudnn.benchmark = True\n",
        "\n",
        "seed_everything(42)"
      ]
    },
    {
      "cell_type": "markdown",
      "metadata": {
        "id": "OXZu1O9LYXnF"
      },
      "source": [
        "#### 🌀 Загружаем данные (предварительно загрузите их с диска в Google Colab)\n",
        "\n",
        "[Ссылка на данные](https://disk.yandex.ru/d/awG8jCY01BGcAQ)"
      ]
    },
    {
      "cell_type": "code",
      "execution_count": null,
      "metadata": {
        "colab": {
          "base_uri": "https://localhost:8080/"
        },
        "id": "8UZwMtVuUklC",
        "outputId": "41fbaad8-1da1-48b7-87bd-07b49958dc6d"
      },
      "outputs": [
        {
          "output_type": "execute_result",
          "data": {
            "text/plain": [
              "DatasetDict({\n",
              "    train: Dataset({\n",
              "        features: ['Unnamed: 0', 'text', 'anger', 'disgust', 'fear', 'joy', 'sadness', 'surprise', 'neutral'],\n",
              "        num_rows: 65584\n",
              "    })\n",
              "    validation: Dataset({\n",
              "        features: ['Unnamed: 0', 'text', 'anger', 'disgust', 'fear', 'joy', 'sadness', 'surprise', 'neutral'],\n",
              "        num_rows: 5426\n",
              "    })\n",
              "})"
            ]
          },
          "metadata": {},
          "execution_count": 51
        }
      ],
      "source": [
        "labels = [\"anger\", \"disgust\", \"fear\", \"joy\", \"sadness\", \"surprise\", \"neutral\"]\n",
        "\n",
        "data = load_dataset(\"csv\", data_files={\"train\": \"/content/big_train.csv\", \"validation\": \"/content/valid.csv\"})\n",
        "data"
      ]
    },
    {
      "cell_type": "markdown",
      "metadata": {
        "id": "fVEYr5gpUklD"
      },
      "source": [
        "#### 🔎 Выведем уникальные символы в сплитах"
      ]
    },
    {
      "cell_type": "code",
      "execution_count": null,
      "metadata": {
        "colab": {
          "base_uri": "https://localhost:8080/"
        },
        "id": "MdYM9ib6UklD",
        "outputId": "712b9055-2412-484c-d5a1-676823daf131"
      },
      "outputs": [
        {
          "output_type": "stream",
          "name": "stdout",
          "text": [
            "Train unique symbols:  {'э', '🤤', ']', 'Й', 'Ш', 'б', 'S', '👍', '😩', '💋', '⠋', '🙃', 'ʖ', '\"', '허', '💡', 'D', '🍻', '♪', '개', '💭', '[', '😬', '5', '😤', '{', '♥', '💁', '\\\\', 'K', '👨', '🇺', 'ñ', 'Ю', '👎', 'U', '🚀', 'I', '🥰', '🍰', 'Ё', '😍', 'z', '🛡', 'Ɲ', 'Щ', '😘', '💜', '⚔', '🐇', '👅', '⚡', 'ň', '}', 'к', 't', '3', '🙊', '⡇', '🙏', '🎖', '⡾', 'q', '⠟', '👐', '✊', '国', '🇸', '💰', '🤭', '?', '😪', '😃', '💄', ';', 'Л', '🌈', 'З', '？', '🏻', 'Д', ')', '⢰', 'F', '🇫', '&', 'Н', '…', '😅', '😓', '🏼', 'д', '✨', '👋', '⢣', '⠸', '⠀', '💨', '⠶', '･', '🤪', '🏽', 'ʌ', '🔥', '’', 'v', '😢', '🤓', '💖', '.', '9', 'O', '⠻', '⠞', '😝', '💲', 'г', 'ˈ', '⣦', '⡟', 'x', 'R', '👉', '😗', '♀', 'T', '💙', '✌', '⣶', '⢤', '😟', 'c', '😮', '⢿', '⠳', 'К', '😳', '⠊', '⣄', '⡷', '💯', '🙄', '🤷', '☕', '«', '🤚', '⠈', 'Y', '😇', 'f', '🤢', '|', '什', '⡜', 'О', '➡', 'ı', '🍩', 'т', '0', 'р', '-', '☁', '雅', 'А', 'N', 'Б', '💓', '玛', '😸', 'p', '在', '🏈', '🧡', '🇷', 'e', 'g', '⣠', '🤠', 'Е', 'И', '😱', 'P', '🚓', '⠹', '🍁', '🤩', '😫', '👏', '⠃', '😻', '😑', '🤮', 'r', '中', '😖', '⣼', '🦗', '💅', 'Ч', '👩', 'o', '😋', '🙂', '©', '💃', '⠛', 'ß', '🎶', '–', '❄', '🙎', '☝', '😀', 'М', 'ɪ', '™', '🏊', '면', '🤞', 'ю', '!', '+', '🔪', 'Т', 'ы', '\\xa0', '做', 'd', '$', 'ё', '🤜', '#', '͜', '🏿', 'у', '🎵', '⠙', '📚', '油', '😭', '🐊', '🥀', '“', '⡼', 'ф', 'ь', 'Х', 'm', '😛', 'С', 'E', '\\u200d', '⠏', '🌿', '⠄', 'a', 'ə', '🤕', '⠚', '7', '8', 'G', '🌹', '🤣', '😆', '🐕', '⠓', '加', '√', '`', '♂', '⠫', '人', '🙆', '🎉', '<', '么', '💆', '🙋', '💚', 'l', '⠾', '🎂', 'Ы', 'ш', '⣿', '😧', '😾', '😣', '😐', 'У', '\\u200b', '💥', '🖕', '🦵', '~', 'é', '🖤', '⣆', '=', 'V', '/', '⣧', '🍍', '☹', '👌', '⢸', '😥', 'ē', '(', '‘', 'y', 'W', 'П', '⢠', '⠢', '🇲', '❣', '💸', 'Г', '⠉', 'щ', \"'\", '👀', 'ω', '🇵', '情', 'В', '😠', '😰', '⠴', '🗑', ',', '°', 'ч', 'Ó', '👓', '☺', 'Ж', 'n', '🦈', '😞', '1', '⠁', '🐃', '>', '≠', '•', '—', 'л', 's', '🤯', '*', 'M', '⡀', '🤦', '💛', '🥺', '⢹', 'ж', '⣤', ' ', '͡', '💔', 'в', '🤗', 'м', '♡', 'ъ', 'H', '👸', '⚰', 'Р', '🎏', '☆', '^', 'k', '😎', '💪', '⡄', '😡', 'Ц', 'ɐ', 'й', '😕', 'Э', '🍧', '€', '🌟', '🐢', '@', 'а', '😉', '💩', 'с', '😏', '⣹', 'з', 'я', 'х', 'L', 'w', 'Δ', '무', '⭐', '4', '‽', '⣘', '⣷', '⡿', 'о', '⡏', '̶', '💕', '6', '청', '%', '❤', '_', '⠘', 'Ф', 'и', 'ʍ', '¦', '😄', '🙁', '⢀', '⠇', '⣀', '№', '！', 'b', '⣾', 'u', '💎', '2', '😜', '”', '👻', '⣻', '🚫', '⡆', '»', 'п', '️', '🤔', '·', '😊', '인', 'Q', 'B', '🖐', 'h', '🍿', '⡶', 'J', '👊', '👴', '⠦', '😿', 'X', '🦀', '¯', 'Ò', 'Z', '⣴', 'е', 'ɹ', 'н', 'i', '⢧', '🙌', '😹', '💦', '⢻', '😂', '🙈', '👑', '⣕', 'Я', '你', '😔', ':', '⣇', 'Ь', 'C', '병', '🤙', '💗', 'A', '😁', 'ц', 'j', '🤲', '⠿', '🧛', '⛏', '😒', '▫', 'ツ', '🕺', '🤰'}\n",
            "Valid unique symbols:  {'э', ']', 'Ш', 'Й', 'б', '😩', 'S', '👍', 'ф', '😭', 'ь', 'Х', 'm', '🙃', 'С', '발', 'E', '\"', '\\u200d', 'D', '🇦', 'a', '[', '😬', '7', '8', '5', 'G', '♥', '\\\\', '🤣', 'K', '😤', '🌹', 'Ю', '니', 'U', 'I', '🥕', '😍', 'z', 'Щ', '🎉', '<', 'l', 'к', 't', 'Ы', '3', 'ш', '🙏', 'q', 'У', '\\u200b', '~', '=', '/', 'V', '?', '☹', ';', '👌', 'Л', '🌈', '(', 'З', 'y', 'W', '¬', '🏻', 'П', 'Д', ')', 'F', '카', '&', 'Н', '😅', 'Г', '…', '🏼', 'щ', 'д', \"'\", '👀', 'В', 'Ъ', ',', 'ч', '💍', 'Ж', 'n', '😞', '1', '>', '🔥', 's', 'л', '—', '🤯', '*', 'M', 'v', '😢', '🤦', '💖', '.', 'ж', '9', 'O', ' ', '🖥', '“', 'г', 'в', 'x', 'R', '🤗', 'м', '♀', '♡', 'T', '💙', '✌', 'ъ', 'H', 'c', '😮', 'К', 'Р', '^', 'k', '☠', '😎', '💪', 'Ц', 'й', 'Э', '🙄', '💯', '@', 'а', '😉', '🤷', '🌊', '«', 'Y', 'f', '🤢', 'с', '|', '😏', 'з', 'О', 'х', 'я', 'L', 'w', '🍩', '4', 'т', '0', '🇭', 'о', 'р', '-', '💕', '6', 'А', '%', 'Б', 'N', '❤', 'Ф', 'и', '🇨', '_', 'p', 'e', 'g', '№', 'Е', 'И', 'b', 'u', 'P', '2', '😜', '”', '🏳', '👏', '»', 'п', '️', '🤔', 'r', '🤮', '😊', 'Q', 'B', 'h', 'Ч', 'J', 'o', '🙂', 'X', '🦀', '¯', '🎶', 'Z', '–', 'е', 'н', 'i', '🇹', '😂', 'М', 'Я', '™', ':', 'Ь', 'C', '💗', 'ю', '!', 'A', '+', 'j', 'ц', '😁', 'Т', 'ы', '\\xa0', '🍺', '⛑', 'd', '$', 'ё', '#', 'ツ', 'у'}\n"
          ]
        }
      ],
      "source": [
        "def get_alphabet(data_split):\n",
        "    alphabet = set()\n",
        "    for sample in data_split:\n",
        "        uniq_chars = set(sample[\"text\"])\n",
        "        alphabet.update(uniq_chars)\n",
        "    return alphabet\n",
        "\n",
        "print(\"Train unique symbols: \", get_alphabet(data[\"train\"]))\n",
        "print(\"Valid unique symbols: \", get_alphabet(data[\"validation\"]))"
      ]
    },
    {
      "cell_type": "markdown",
      "metadata": {
        "id": "WX9mK-PMUklE"
      },
      "source": [
        "#### 📊 Построим гистограммы распределения"
      ]
    },
    {
      "cell_type": "code",
      "execution_count": null,
      "metadata": {
        "id": "HTtNN_5lUklE"
      },
      "outputs": [],
      "source": [
        "def plot_histogram(data_split):\n",
        "    class_counts = {\n",
        "        'anger': 0,\n",
        "        'disgust': 0,\n",
        "        'fear': 0,\n",
        "        'joy': 0,\n",
        "        'sadness': 0,\n",
        "        'surprise': 0,\n",
        "        'neutral': 0\n",
        "    }\n",
        "\n",
        "    for sample in data_split:\n",
        "        for emotion in labels:\n",
        "            class_counts[emotion] += sample[emotion]\n",
        "\n",
        "    classes = list(class_counts.keys())\n",
        "    counts = list(class_counts.values())\n",
        "\n",
        "    plt.figure(figsize=(10, 6))\n",
        "    plt.bar(classes, counts)\n",
        "    plt.xlabel('Классы эмоций')\n",
        "    plt.ylabel('Количество')\n",
        "    plt.title('Распределение по классам эмоций')\n",
        "    plt.xticks(rotation=45)\n",
        "\n",
        "    plt.show()"
      ]
    },
    {
      "cell_type": "code",
      "execution_count": null,
      "metadata": {
        "colab": {
          "base_uri": "https://localhost:8080/",
          "height": 600
        },
        "id": "KGfZaBzAUklE",
        "outputId": "94367a11-5919-4ae8-b638-5a32cc6abd76"
      },
      "outputs": [
        {
          "output_type": "display_data",
          "data": {
            "text/plain": [
              "<Figure size 1000x600 with 1 Axes>"
            ],
            "image/png": "[encoded data removed]"
          },
          "metadata": {}
        }
      ],
      "source": [
        "plot_histogram(data[\"train\"])"
      ]
    },
    {
      "cell_type": "code",
      "execution_count": null,
      "metadata": {
        "id": "EvqHhhyEUklE"
      },
      "outputs": [],
      "source": [
        "def plot_combined_emotions(data_split):\n",
        "    emotion_pairs = defaultdict(int)\n",
        "\n",
        "    for entry in data_split:\n",
        "        emotions = {key: value for key, value in entry.items() if key in labels}\n",
        "        active_emotions = [emotion for emotion, value in emotions.items() if value > 0]\n",
        "\n",
        "        for pair in itertools.combinations(sorted(active_emotions), 2):\n",
        "            emotion_pairs[pair] += 1\n",
        "\n",
        "    sorted_pairs = sorted(emotion_pairs.items(), key=lambda x: x[1], reverse=True)\n",
        "    pairs = [f\"{pair[0]} & {pair[1]}\" for pair, _ in sorted_pairs]\n",
        "    counts = [count for _, count in sorted_pairs]\n",
        "\n",
        "    plt.figure(figsize=(12, 6))\n",
        "    plt.bar(pairs, counts)\n",
        "    plt.xlabel('Пары эмоций')\n",
        "    plt.ylabel('Количество')\n",
        "    plt.title('Совместное появление эмоций')\n",
        "    plt.xticks(rotation=45)\n",
        "\n",
        "    plt.show()"
      ]
    },
    {
      "cell_type": "code",
      "execution_count": null,
      "metadata": {
        "id": "qyZqbSUCUklF",
        "colab": {
          "base_uri": "https://localhost:8080/",
          "height": 653
        },
        "outputId": "11c80a7d-fcc1-404a-ea4e-33a615354c1d"
      },
      "outputs": [
        {
          "output_type": "display_data",
          "data": {
            "text/plain": [
              "<Figure size 1200x600 with 1 Axes>"
            ],
            "image/png": "[encoded data removed]"
          },
          "metadata": {}
        }
      ],
      "source": [
        "plot_combined_emotions(data[\"train\"])"
      ]
    },
    {
      "cell_type": "markdown",
      "metadata": {
        "id": "8-Jhpir5UklF"
      },
      "source": [
        "#### 🧹 Приведем тексты к нижнему регистру и удалим лишние знаки"
      ]
    },
    {
      "cell_type": "code",
      "execution_count": null,
      "metadata": {
        "id": "mzmI1Rc5UklF"
      },
      "outputs": [],
      "source": [
        "def cleaner(example):\n",
        "    example[\"text\"] = example[\"text\"].lower()\n",
        "    example[\"text\"] = re.sub(r\"[^a-zа-я\\d]\", \" \", example[\"text\"])\n",
        "    example[\"text\"] = re.sub(r\"\\s+\", \" \", example[\"text\"])\n",
        "    example[\"text\"] = example[\"text\"].strip()\n",
        "    return example"
      ]
    },
    {
      "cell_type": "code",
      "execution_count": null,
      "metadata": {
        "id": "IpoNhfSGUklF"
      },
      "outputs": [],
      "source": [
        "data = data.map(cleaner)"
      ]
    },
    {
      "cell_type": "code",
      "execution_count": null,
      "metadata": {
        "id": "YouCnP-RUklF",
        "colab": {
          "base_uri": "https://localhost:8080/"
        },
        "outputId": "0e81bef9-2149-4b4a-972d-ae7f22f42bd2"
      },
      "outputs": [
        {
          "output_type": "execute_result",
          "data": {
            "text/plain": [
              "{'Unnamed: 0': 3,\n",
              " 'text': 'имя из за этого я чувствую себя старым',\n",
              " 'anger': 0,\n",
              " 'disgust': 0,\n",
              " 'fear': 0,\n",
              " 'joy': 0,\n",
              " 'sadness': 0,\n",
              " 'surprise': 0,\n",
              " 'neutral': 1}"
            ]
          },
          "metadata": {},
          "execution_count": 59
        }
      ],
      "source": [
        "data[\"train\"][3]"
      ]
    },
    {
      "cell_type": "markdown",
      "metadata": {
        "id": "3p_YI9glUklG"
      },
      "source": [
        "#### 🏋️ Подготовим модель"
      ]
    },
    {
      "cell_type": "code",
      "execution_count": null,
      "metadata": {
        "id": "itrGzH44UklG",
        "colab": {
          "base_uri": "https://localhost:8080/",
          "height": 373
        },
        "outputId": "6d2c46ba-ea7b-4363-d115-60229a55b23c"
      },
      "outputs": [
        {
          "output_type": "error",
          "ename": "OutOfMemoryError",
          "evalue": "CUDA out of memory. Tried to allocate 352.00 MiB. GPU 0 has a total capacity of 14.75 GiB of which 65.06 MiB is free. Process 8464 has 14.68 GiB memory in use. Of the allocated memory 14.33 GiB is allocated by PyTorch, and 228.67 MiB is reserved by PyTorch but unallocated. If reserved but unallocated memory is large try setting PYTORCH_CUDA_ALLOC_CONF=expandable_segments:True to avoid fragmentation.  See documentation for Memory Management  (https://pytorch.org/docs/stable/notes/cuda.html#environment-variables)",
          "traceback": [
            "\u001b[0;31m---------------------------------------------------------------------------\u001b[0m",
            "\u001b[0;31mOutOfMemoryError\u001b[0m                          Traceback (most recent call last)",
            "\u001b[0;32m<ipython-input-62-9dd063a9b486>\u001b[0m in \u001b[0;36m<cell line: 29>\u001b[0;34m()\u001b[0m\n\u001b[1;32m     27\u001b[0m \u001b[0mdevice\u001b[0m \u001b[0;34m=\u001b[0m \u001b[0mtorch\u001b[0m\u001b[0;34m.\u001b[0m\u001b[0mdevice\u001b[0m\u001b[0;34m(\u001b[0m\u001b[0;34m\"cuda\"\u001b[0m \u001b[0;32mif\u001b[0m \u001b[0mtorch\u001b[0m\u001b[0;34m.\u001b[0m\u001b[0mcuda\u001b[0m\u001b[0;34m.\u001b[0m\u001b[0mis_available\u001b[0m\u001b[0;34m(\u001b[0m\u001b[0;34m)\u001b[0m \u001b[0;32melse\u001b[0m \u001b[0;34m\"cpu\"\u001b[0m\u001b[0;34m)\u001b[0m\u001b[0;34m\u001b[0m\u001b[0;34m\u001b[0m\u001b[0m\n\u001b[1;32m     28\u001b[0m \u001b[0mmodel\u001b[0m \u001b[0;34m=\u001b[0m \u001b[0mModel\u001b[0m\u001b[0;34m(\u001b[0m\u001b[0mpretrained_model\u001b[0m\u001b[0;34m=\u001b[0m\u001b[0;34m\"ai-forever/ruBert-base\"\u001b[0m\u001b[0;34m,\u001b[0m \u001b[0mhidden_dim\u001b[0m\u001b[0;34m=\u001b[0m\u001b[0;36m768\u001b[0m\u001b[0;34m,\u001b[0m \u001b[0mnum_classes\u001b[0m\u001b[0;34m=\u001b[0m\u001b[0mlen\u001b[0m\u001b[0;34m(\u001b[0m\u001b[0mlabels\u001b[0m\u001b[0;34m)\u001b[0m\u001b[0;34m)\u001b[0m\u001b[0;34m\u001b[0m\u001b[0;34m\u001b[0m\u001b[0m\n\u001b[0;32m---> 29\u001b[0;31m \u001b[0mmodel\u001b[0m \u001b[0;34m=\u001b[0m \u001b[0mmodel\u001b[0m\u001b[0;34m.\u001b[0m\u001b[0mto\u001b[0m\u001b[0;34m(\u001b[0m\u001b[0mdevice\u001b[0m\u001b[0;34m)\u001b[0m\u001b[0;34m\u001b[0m\u001b[0;34m\u001b[0m\u001b[0m\n\u001b[0m",
            "\u001b[0;32m/usr/local/lib/python3.10/dist-packages/torch/nn/modules/module.py\u001b[0m in \u001b[0;36mto\u001b[0;34m(self, *args, **kwargs)\u001b[0m\n\u001b[1;32m   1338\u001b[0m                     \u001b[0;32mraise\u001b[0m\u001b[0;34m\u001b[0m\u001b[0;34m\u001b[0m\u001b[0m\n\u001b[1;32m   1339\u001b[0m \u001b[0;34m\u001b[0m\u001b[0m\n\u001b[0;32m-> 1340\u001b[0;31m         \u001b[0;32mreturn\u001b[0m \u001b[0mself\u001b[0m\u001b[0;34m.\u001b[0m\u001b[0m_apply\u001b[0m\u001b[0;34m(\u001b[0m\u001b[0mconvert\u001b[0m\u001b[0;34m)\u001b[0m\u001b[0;34m\u001b[0m\u001b[0;34m\u001b[0m\u001b[0m\n\u001b[0m\u001b[1;32m   1341\u001b[0m \u001b[0;34m\u001b[0m\u001b[0m\n\u001b[1;32m   1342\u001b[0m     def register_full_backward_pre_hook(\n",
            "\u001b[0;32m/usr/local/lib/python3.10/dist-packages/torch/nn/modules/module.py\u001b[0m in \u001b[0;36m_apply\u001b[0;34m(self, fn, recurse)\u001b[0m\n\u001b[1;32m    898\u001b[0m         \u001b[0;32mif\u001b[0m \u001b[0mrecurse\u001b[0m\u001b[0;34m:\u001b[0m\u001b[0;34m\u001b[0m\u001b[0;34m\u001b[0m\u001b[0m\n\u001b[1;32m    899\u001b[0m             \u001b[0;32mfor\u001b[0m \u001b[0mmodule\u001b[0m \u001b[0;32min\u001b[0m \u001b[0mself\u001b[0m\u001b[0;34m.\u001b[0m\u001b[0mchildren\u001b[0m\u001b[0;34m(\u001b[0m\u001b[0;34m)\u001b[0m\u001b[0;34m:\u001b[0m\u001b[0;34m\u001b[0m\u001b[0;34m\u001b[0m\u001b[0m\n\u001b[0;32m--> 900\u001b[0;31m                 \u001b[0mmodule\u001b[0m\u001b[0;34m.\u001b[0m\u001b[0m_apply\u001b[0m\u001b[0;34m(\u001b[0m\u001b[0mfn\u001b[0m\u001b[0;34m)\u001b[0m\u001b[0;34m\u001b[0m\u001b[0;34m\u001b[0m\u001b[0m\n\u001b[0m\u001b[1;32m    901\u001b[0m \u001b[0;34m\u001b[0m\u001b[0m\n\u001b[1;32m    902\u001b[0m         \u001b[0;32mdef\u001b[0m \u001b[0mcompute_should_use_set_data\u001b[0m\u001b[0;34m(\u001b[0m\u001b[0mtensor\u001b[0m\u001b[0;34m,\u001b[0m \u001b[0mtensor_applied\u001b[0m\u001b[0;34m)\u001b[0m\u001b[0;34m:\u001b[0m\u001b[0;34m\u001b[0m\u001b[0;34m\u001b[0m\u001b[0m\n",
            "\u001b[0;32m/usr/local/lib/python3.10/dist-packages/torch/nn/modules/module.py\u001b[0m in \u001b[0;36m_apply\u001b[0;34m(self, fn, recurse)\u001b[0m\n\u001b[1;32m    898\u001b[0m         \u001b[0;32mif\u001b[0m \u001b[0mrecurse\u001b[0m\u001b[0;34m:\u001b[0m\u001b[0;34m\u001b[0m\u001b[0;34m\u001b[0m\u001b[0m\n\u001b[1;32m    899\u001b[0m             \u001b[0;32mfor\u001b[0m \u001b[0mmodule\u001b[0m \u001b[0;32min\u001b[0m \u001b[0mself\u001b[0m\u001b[0;34m.\u001b[0m\u001b[0mchildren\u001b[0m\u001b[0;34m(\u001b[0m\u001b[0;34m)\u001b[0m\u001b[0;34m:\u001b[0m\u001b[0;34m\u001b[0m\u001b[0;34m\u001b[0m\u001b[0m\n\u001b[0;32m--> 900\u001b[0;31m                 \u001b[0mmodule\u001b[0m\u001b[0;34m.\u001b[0m\u001b[0m_apply\u001b[0m\u001b[0;34m(\u001b[0m\u001b[0mfn\u001b[0m\u001b[0;34m)\u001b[0m\u001b[0;34m\u001b[0m\u001b[0;34m\u001b[0m\u001b[0m\n\u001b[0m\u001b[1;32m    901\u001b[0m \u001b[0;34m\u001b[0m\u001b[0m\n\u001b[1;32m    902\u001b[0m         \u001b[0;32mdef\u001b[0m \u001b[0mcompute_should_use_set_data\u001b[0m\u001b[0;34m(\u001b[0m\u001b[0mtensor\u001b[0m\u001b[0;34m,\u001b[0m \u001b[0mtensor_applied\u001b[0m\u001b[0;34m)\u001b[0m\u001b[0;34m:\u001b[0m\u001b[0;34m\u001b[0m\u001b[0;34m\u001b[0m\u001b[0m\n",
            "\u001b[0;32m/usr/local/lib/python3.10/dist-packages/torch/nn/modules/module.py\u001b[0m in \u001b[0;36m_apply\u001b[0;34m(self, fn, recurse)\u001b[0m\n\u001b[1;32m    898\u001b[0m         \u001b[0;32mif\u001b[0m \u001b[0mrecurse\u001b[0m\u001b[0;34m:\u001b[0m\u001b[0;34m\u001b[0m\u001b[0;34m\u001b[0m\u001b[0m\n\u001b[1;32m    899\u001b[0m             \u001b[0;32mfor\u001b[0m \u001b[0mmodule\u001b[0m \u001b[0;32min\u001b[0m \u001b[0mself\u001b[0m\u001b[0;34m.\u001b[0m\u001b[0mchildren\u001b[0m\u001b[0;34m(\u001b[0m\u001b[0;34m)\u001b[0m\u001b[0;34m:\u001b[0m\u001b[0;34m\u001b[0m\u001b[0;34m\u001b[0m\u001b[0m\n\u001b[0;32m--> 900\u001b[0;31m                 \u001b[0mmodule\u001b[0m\u001b[0;34m.\u001b[0m\u001b[0m_apply\u001b[0m\u001b[0;34m(\u001b[0m\u001b[0mfn\u001b[0m\u001b[0;34m)\u001b[0m\u001b[0;34m\u001b[0m\u001b[0;34m\u001b[0m\u001b[0m\n\u001b[0m\u001b[1;32m    901\u001b[0m \u001b[0;34m\u001b[0m\u001b[0m\n\u001b[1;32m    902\u001b[0m         \u001b[0;32mdef\u001b[0m \u001b[0mcompute_should_use_set_data\u001b[0m\u001b[0;34m(\u001b[0m\u001b[0mtensor\u001b[0m\u001b[0;34m,\u001b[0m \u001b[0mtensor_applied\u001b[0m\u001b[0;34m)\u001b[0m\u001b[0;34m:\u001b[0m\u001b[0;34m\u001b[0m\u001b[0;34m\u001b[0m\u001b[0m\n",
            "\u001b[0;32m/usr/local/lib/python3.10/dist-packages/torch/nn/modules/module.py\u001b[0m in \u001b[0;36m_apply\u001b[0;34m(self, fn, recurse)\u001b[0m\n\u001b[1;32m    925\u001b[0m             \u001b[0;31m# `with torch.no_grad():`\u001b[0m\u001b[0;34m\u001b[0m\u001b[0;34m\u001b[0m\u001b[0m\n\u001b[1;32m    926\u001b[0m             \u001b[0;32mwith\u001b[0m \u001b[0mtorch\u001b[0m\u001b[0;34m.\u001b[0m\u001b[0mno_grad\u001b[0m\u001b[0;34m(\u001b[0m\u001b[0;34m)\u001b[0m\u001b[0;34m:\u001b[0m\u001b[0;34m\u001b[0m\u001b[0;34m\u001b[0m\u001b[0m\n\u001b[0;32m--> 927\u001b[0;31m                 \u001b[0mparam_applied\u001b[0m \u001b[0;34m=\u001b[0m \u001b[0mfn\u001b[0m\u001b[0;34m(\u001b[0m\u001b[0mparam\u001b[0m\u001b[0;34m)\u001b[0m\u001b[0;34m\u001b[0m\u001b[0;34m\u001b[0m\u001b[0m\n\u001b[0m\u001b[1;32m    928\u001b[0m             \u001b[0mp_should_use_set_data\u001b[0m \u001b[0;34m=\u001b[0m \u001b[0mcompute_should_use_set_data\u001b[0m\u001b[0;34m(\u001b[0m\u001b[0mparam\u001b[0m\u001b[0;34m,\u001b[0m \u001b[0mparam_applied\u001b[0m\u001b[0;34m)\u001b[0m\u001b[0;34m\u001b[0m\u001b[0;34m\u001b[0m\u001b[0m\n\u001b[1;32m    929\u001b[0m \u001b[0;34m\u001b[0m\u001b[0m\n",
            "\u001b[0;32m/usr/local/lib/python3.10/dist-packages/torch/nn/modules/module.py\u001b[0m in \u001b[0;36mconvert\u001b[0;34m(t)\u001b[0m\n\u001b[1;32m   1324\u001b[0m                         \u001b[0mmemory_format\u001b[0m\u001b[0;34m=\u001b[0m\u001b[0mconvert_to_format\u001b[0m\u001b[0;34m,\u001b[0m\u001b[0;34m\u001b[0m\u001b[0;34m\u001b[0m\u001b[0m\n\u001b[1;32m   1325\u001b[0m                     )\n\u001b[0;32m-> 1326\u001b[0;31m                 return t.to(\n\u001b[0m\u001b[1;32m   1327\u001b[0m                     \u001b[0mdevice\u001b[0m\u001b[0;34m,\u001b[0m\u001b[0;34m\u001b[0m\u001b[0;34m\u001b[0m\u001b[0m\n\u001b[1;32m   1328\u001b[0m                     \u001b[0mdtype\u001b[0m \u001b[0;32mif\u001b[0m \u001b[0mt\u001b[0m\u001b[0;34m.\u001b[0m\u001b[0mis_floating_point\u001b[0m\u001b[0;34m(\u001b[0m\u001b[0;34m)\u001b[0m \u001b[0;32mor\u001b[0m \u001b[0mt\u001b[0m\u001b[0;34m.\u001b[0m\u001b[0mis_complex\u001b[0m\u001b[0;34m(\u001b[0m\u001b[0;34m)\u001b[0m \u001b[0;32melse\u001b[0m \u001b[0;32mNone\u001b[0m\u001b[0;34m,\u001b[0m\u001b[0;34m\u001b[0m\u001b[0;34m\u001b[0m\u001b[0m\n",
            "\u001b[0;31mOutOfMemoryError\u001b[0m: CUDA out of memory. Tried to allocate 352.00 MiB. GPU 0 has a total capacity of 14.75 GiB of which 65.06 MiB is free. Process 8464 has 14.68 GiB memory in use. Of the allocated memory 14.33 GiB is allocated by PyTorch, and 228.67 MiB is reserved by PyTorch but unallocated. If reserved but unallocated memory is large try setting PYTORCH_CUDA_ALLOC_CONF=expandable_segments:True to avoid fragmentation.  See documentation for Memory Management  (https://pytorch.org/docs/stable/notes/cuda.html#environment-variables)"
          ]
        }
      ],
      "source": [
        "class Model(torch.nn.Module):\n",
        "    def __init__(self, pretrained_model, hidden_dim, num_classes):\n",
        "        super().__init__()\n",
        "        self.bert = AutoModel.from_pretrained(pretrained_model)\n",
        "        # добавила доп слои\n",
        "        self.linear_relu_stack = torch.nn.Sequential(\n",
        "            torch.nn.Linear(hidden_dim, 512*2),\n",
        "            torch.nn.Dropout(0.1),\n",
        "            torch.nn.ReLU(),\n",
        "            torch.nn.Linear(512*2, 512),\n",
        "            torch.nn.Dropout(0.1),\n",
        "            torch.nn.ReLU(),\n",
        "        )\n",
        "        self.final = torch.nn.Linear(512, num_classes)\n",
        "\n",
        "        # дообучаем bert\n",
        "        self.bert.requires_grad_(False)\n",
        "        for param in self.bert.encoder.parameters():\n",
        "            param.requires_grad = True\n",
        "\n",
        "    def forward(self, ids, mask, token_type_ids):\n",
        "        _, x = self.bert(ids, attention_mask = mask, token_type_ids = token_type_ids, return_dict=False)\n",
        "        x = self.linear_relu_stack(x)\n",
        "        out = self.final(x)\n",
        "        return out\n",
        "\n",
        "device = torch.device(\"cuda\" if torch.cuda.is_available() else \"cpu\")\n",
        "model = Model(pretrained_model=\"ai-forever/ruBert-base\", hidden_dim=768, num_classes=len(labels))\n",
        "model = model.to(device)"
      ]
    },
    {
      "cell_type": "markdown",
      "metadata": {
        "id": "3bxDJtcxUklG"
      },
      "source": [
        "#### 📒 Подготовим данные для обучения"
      ]
    },
    {
      "cell_type": "code",
      "execution_count": null,
      "metadata": {
        "id": "UvzhkpiYUklG"
      },
      "outputs": [],
      "source": [
        "tokenizer = AutoTokenizer.from_pretrained(\"ai-forever/ruBert-base\")\n",
        "max_len = 64\n",
        "\n",
        "data = data.map(lambda examples: tokenizer(examples[\"text\"],\n",
        "                                           truncation=True,\n",
        "                                           add_special_tokens=True,\n",
        "                                           max_length=max_len,\n",
        "                                           padding=\"max_length\"), batched=True)"
      ]
    },
    {
      "cell_type": "code",
      "execution_count": null,
      "metadata": {
        "id": "zz3M3ZFHUklG"
      },
      "outputs": [],
      "source": [
        "def one_hot_to_list(example):\n",
        "    emotions = []\n",
        "    for emotion in labels:\n",
        "        emotions.append(example[emotion])\n",
        "    example[\"one_hot_labels\"] = emotions\n",
        "\n",
        "    return example\n",
        "\n",
        "data = data.map(one_hot_to_list)\n",
        "data[\"train\"][9][\"one_hot_labels\"]"
      ]
    },
    {
      "cell_type": "markdown",
      "metadata": {
        "id": "AnTMw1U1UklG"
      },
      "source": [
        "#### 🔗 Dataset & DataLoader"
      ]
    },
    {
      "cell_type": "code",
      "execution_count": null,
      "metadata": {
        "id": "QftInN_ZUklH"
      },
      "outputs": [],
      "source": [
        "class EmotionDataset(Dataset):\n",
        "    def __init__(self, dataset):\n",
        "        self.dataset = dataset\n",
        "\n",
        "    def __len__(self):\n",
        "        return len(self.dataset)\n",
        "\n",
        "    def __getitem__(self, index):\n",
        "        return {\n",
        "            'input_ids': torch.tensor(self.dataset[index][\"input_ids\"], dtype=torch.long),\n",
        "            'attention_mask': torch.tensor(self.dataset[index][\"attention_mask\"], dtype=torch.long),\n",
        "            'token_type_ids': torch.tensor(self.dataset[index][\"token_type_ids\"], dtype=torch.long),\n",
        "            'labels': torch.tensor(self.dataset[index][\"one_hot_labels\"], dtype=torch.float)\n",
        "        }"
      ]
    },
    {
      "cell_type": "code",
      "execution_count": null,
      "metadata": {
        "id": "XtyQSmc8UklH"
      },
      "outputs": [],
      "source": [
        "train_dataset = EmotionDataset(data[\"train\"])\n",
        "valid_dataset = EmotionDataset(data[\"validation\"])"
      ]
    },
    {
      "cell_type": "code",
      "execution_count": null,
      "metadata": {
        "id": "GiANwqk8UklH"
      },
      "outputs": [],
      "source": [
        "train_dataloader = DataLoader(train_dataset, batch_size=64, shuffle=True)\n",
        "valid_dataloader = DataLoader(valid_dataset, batch_size=64, shuffle=False) # поменяла batch_size"
      ]
    },
    {
      "cell_type": "markdown",
      "metadata": {
        "id": "QCEEg9gdUklH"
      },
      "source": [
        "#### 🚀 Инициализируем функцию ошибки и оптимизатор"
      ]
    },
    {
      "cell_type": "code",
      "execution_count": null,
      "metadata": {
        "id": "lSrPJC9_UklH"
      },
      "outputs": [],
      "source": [
        "criterion = torch.nn.BCEWithLogitsLoss() #CrossEntropyLoss()\n",
        "optimizer = torch.optim.Adam(params=model.parameters(), lr=0.001, weight_decay=0.0) # поменяла lr и weight_decay"
      ]
    },
    {
      "cell_type": "markdown",
      "metadata": {
        "id": "w1F-YdGdUklH"
      },
      "source": [
        "#### 🥷 Код для обучения и валидации"
      ]
    },
    {
      "cell_type": "code",
      "execution_count": null,
      "metadata": {
        "id": "P_mvHO8oUklH"
      },
      "outputs": [],
      "source": [
        "def train(model, criterion, optimizer, dataloader):\n",
        "    train_loss = 0.0\n",
        "    model.train()\n",
        "    for idx, data in enumerate(dataloader):\n",
        "        ids = data[\"input_ids\"].to(device, dtype=torch.long)\n",
        "        mask = data[\"attention_mask\"].to(device, dtype=torch.long)\n",
        "        token_type_ids = data[\"token_type_ids\"].to(device, dtype=torch.long)\n",
        "        labels = data[\"labels\"].to(device, dtype=torch.float)\n",
        "\n",
        "        outputs = model(ids, mask, token_type_ids)\n",
        "        loss = criterion(outputs, labels)\n",
        "        train_loss += loss.item()\n",
        "\n",
        "        loss.backward()\n",
        "        optimizer.step()\n",
        "        optimizer.zero_grad()\n",
        "\n",
        "    print(f'Train loss: {train_loss / len(dataloader)}')\n",
        "\n",
        "    return model"
      ]
    },
    {
      "cell_type": "code",
      "execution_count": null,
      "metadata": {
        "id": "8fXYujT_UklH"
      },
      "outputs": [],
      "source": [
        "def validation(model, criterion, dataloader):\n",
        "    val_loss = 0.0\n",
        "    model.eval()\n",
        "    val_targets, val_outputs = [], []\n",
        "    with torch.no_grad():\n",
        "        for idx, data in enumerate(dataloader):\n",
        "            ids = data[\"input_ids\"].to(device, dtype=torch.long)\n",
        "            mask = data[\"attention_mask\"].to(device, dtype=torch.long)\n",
        "            token_type_ids = data[\"token_type_ids\"].to(device, dtype=torch.long)\n",
        "            labels = data[\"labels\"].to(device, dtype=torch.float)\n",
        "\n",
        "            outputs = model(ids, mask, token_type_ids)\n",
        "            loss = criterion(outputs, labels)\n",
        "            val_loss += loss.item()\n",
        "\n",
        "            val_targets.extend(labels.cpu().detach().numpy().tolist())\n",
        "            val_outputs.extend(torch.sigmoid(outputs).cpu().detach().numpy().tolist())\n",
        "\n",
        "    print(f'Valid loss: {val_loss / len(dataloader)}')\n",
        "\n",
        "    return val_outputs, val_targets"
      ]
    },
    {
      "cell_type": "markdown",
      "metadata": {
        "id": "glIXd3kKUklI"
      },
      "source": [
        "#### 🏃‍♂️‍➡️ Запускаем обучение"
      ]
    },
    {
      "cell_type": "code",
      "execution_count": null,
      "metadata": {
        "id": "quO67fVvUklJ"
      },
      "outputs": [],
      "source": [
        "epochs = 4\n",
        "\n",
        "for epoch in range(epochs):\n",
        "    print(f\"Epoch: {epoch}\")\n",
        "    model = train(model, criterion, optimizer, train_dataloader)\n",
        "    val_outputs, val_targets = validation(model, criterion, valid_dataloader)"
      ]
    },
    {
      "cell_type": "code",
      "execution_count": null,
      "metadata": {
        "id": "6t3ADRSFRcU3"
      },
      "outputs": [],
      "source": []
    },
    {
      "cell_type": "code",
      "execution_count": null,
      "metadata": {
        "id": "lNZjKaAjUklJ"
      },
      "outputs": [],
      "source": [
        "outputs, targets = validation(model, criterion, valid_dataloader)\n",
        "outputs = np.array(outputs) >= 0.28\n",
        "print(metrics.classification_report(targets, outputs, target_names=labels))"
      ]
    },
    {
      "cell_type": "code",
      "source": [
        "outputs, targets = validation(model, criterion, valid_dataloader)\n",
        "outputs = np.array(outputs) >= 0.27\n",
        "print(metrics.classification_report(targets, outputs, target_names=labels))"
      ],
      "metadata": {
        "id": "VDSlCQpgKYFu"
      },
      "execution_count": null,
      "outputs": []
    },
    {
      "cell_type": "markdown",
      "metadata": {
        "id": "ZLOufVikUklK"
      },
      "source": [
        "#### ✏️ Получаем результаты на тесте"
      ]
    },
    {
      "cell_type": "code",
      "execution_count": null,
      "metadata": {
        "id": "emYEIlsdUklK"
      },
      "outputs": [],
      "source": [
        "test = load_dataset(\"csv\", data_files={\"test\": \"/content/test_without_answers.csv\"})"
      ]
    },
    {
      "cell_type": "code",
      "execution_count": null,
      "metadata": {
        "id": "P2QE5mWDUklK"
      },
      "outputs": [],
      "source": [
        "test = test.map(lambda examples: tokenizer(examples[\"text\"],\n",
        "                                           truncation=True,\n",
        "                                           add_special_tokens=True,\n",
        "                                           max_length=max_len,\n",
        "                                           padding=\"max_length\"), batched=True)\n",
        "\n",
        "test = test.map(one_hot_to_list)"
      ]
    },
    {
      "cell_type": "code",
      "execution_count": null,
      "metadata": {
        "id": "MDkFrKHBUklK"
      },
      "outputs": [],
      "source": [
        "test_dataset = EmotionDataset(test[\"test\"])\n",
        "test_dataloader = DataLoader(test_dataset, batch_size=1, shuffle=False)"
      ]
    },
    {
      "cell_type": "code",
      "execution_count": null,
      "metadata": {
        "id": "nZXyuZ3nUklK"
      },
      "outputs": [],
      "source": [
        "outputs, _ = validation(model, criterion, test_dataloader)\n",
        "outputs = np.array(outputs) >= 0.5"
      ]
    },
    {
      "cell_type": "markdown",
      "metadata": {
        "id": "7oHv1Y3IjhkL"
      },
      "source": [
        "#### 🧑‍🍳 Готовим сабмит"
      ]
    },
    {
      "cell_type": "code",
      "execution_count": null,
      "metadata": {
        "id": "93xzRtvXjNqm"
      },
      "outputs": [],
      "source": [
        "import pandas as pd\n",
        "\n",
        "df = pd.read_csv(\"/content/test_without_answers.csv\")"
      ]
    },
    {
      "cell_type": "markdown",
      "metadata": {
        "id": "uNZfm-V8lBVh"
      },
      "source": [
        "Изначально все метки классов инициализированы нулями, нужно их заполнить результатами модели."
      ]
    },
    {
      "cell_type": "code",
      "execution_count": null,
      "metadata": {
        "id": "tkXUatIqj6O1"
      },
      "outputs": [],
      "source": [
        "df.head()"
      ]
    },
    {
      "cell_type": "code",
      "execution_count": null,
      "metadata": {
        "id": "2FXckAcmj7sl"
      },
      "outputs": [],
      "source": [
        "df[labels] = outputs.astype(int)"
      ]
    },
    {
      "cell_type": "code",
      "execution_count": null,
      "metadata": {
        "id": "BM39BUotkBBt"
      },
      "outputs": [],
      "source": [
        "df.head()"
      ]
    },
    {
      "cell_type": "code",
      "execution_count": null,
      "metadata": {
        "id": "21D7hzUvk6ar"
      },
      "outputs": [],
      "source": [
        "df.to_csv(\"/content/submission.csv\", index=False)"
      ]
    },
    {
      "cell_type": "code",
      "execution_count": null,
      "metadata": {
        "id": "skuGKGYq7KXV"
      },
      "outputs": [],
      "source": []
    }
  ],
  "metadata": {
    "colab": {
      "provenance": [],
      "gpuType": "T4"
    },
    "kernelspec": {
      "display_name": "Hackaton",
      "language": "python",
      "name": "hack"
    },
    "language_info": {
      "codemirror_mode": {
        "name": "ipython",
        "version": 3
      },
      "file_extension": ".py",
      "mimetype": "text/x-python",
      "name": "python",
      "nbconvert_exporter": "python",
      "pygments_lexer": "ipython3",
      "version": "3.10.6"
    },
    "accelerator": "GPU"
  },
  "nbformat": 4,
  "nbformat_minor": 0
}